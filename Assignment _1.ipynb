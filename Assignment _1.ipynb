{
 "cells": [
  {
   "cell_type": "code",
   "execution_count": 4,
   "id": "e9a7125a-34fe-4621-ab79-3a82c78bae74",
   "metadata": {},
   "outputs": [
    {
     "data": {
      "text/plain": [
       "'\\nQns.1 Who python programing language ?\\nAns. Python was created by Guido van Rossum 1991'"
      ]
     },
     "execution_count": 4,
     "metadata": {},
     "output_type": "execute_result"
    }
   ],
   "source": [
    "'''\n",
    "Qns.1 Who python programing language ?\n",
    "Ans. Python was created by Guido van Rossum 1991'''\n",
    "\n"
   ]
  },
  {
   "cell_type": "code",
   "execution_count": 5,
   "id": "5876db71-8676-4c41-b592-4b6428f50334",
   "metadata": {},
   "outputs": [
    {
     "data": {
      "text/plain": [
       "'\\nQns.2 Which type of proramming does python support ?\\nAns. python is a versetile progroming language that support a wide . Range of application types '"
      ]
     },
     "execution_count": 5,
     "metadata": {},
     "output_type": "execute_result"
    }
   ],
   "source": [
    "'''\n",
    "Qns.2 Which type of proramming does python support ?\n",
    "Ans. python is a versetile progroming language that support a wide . Range of application types '''\n"
   ]
  },
  {
   "cell_type": "code",
   "execution_count": null,
   "id": "f15bad05-f144-456a-b932-707b98563b6d",
   "metadata": {},
   "outputs": [],
   "source": []
  }
 ],
 "metadata": {
  "kernelspec": {
   "display_name": "Python 3 (ipykernel)",
   "language": "python",
   "name": "python3"
  },
  "language_info": {
   "codemirror_mode": {
    "name": "ipython",
    "version": 3
   },
   "file_extension": ".py",
   "mimetype": "text/x-python",
   "name": "python",
   "nbconvert_exporter": "python",
   "pygments_lexer": "ipython3",
   "version": "3.10.8"
  }
 },
 "nbformat": 4,
 "nbformat_minor": 5
}
